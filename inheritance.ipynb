{
 "cells": [
  {
   "cell_type": "code",
   "execution_count": 4,
   "id": "c444aa86-5962-4302-922d-66e6e4b3f642",
   "metadata": {},
   "outputs": [
    {
     "name": "stdout",
     "output_type": "stream",
     "text": [
      "blue\n",
      "SUV\n"
     ]
    }
   ],
   "source": [
    "class Car:\n",
    "    def __init__(self, color, model):\n",
    "        self.color = color    # Instance variable\n",
    "        self.model = model    # Instance variable\n",
    "\n",
    "# Creating objects with unique attributes\n",
    "car1 = Car(\"blue\", \"Sedan\")\n",
    "car2 = Car(\"red\", \"SUV\")\n",
    "\n",
    "print(car1.color)  # Output: blue\n",
    "print(car2.model)  # Output: SUV"
   ]
  },
  {
   "cell_type": "code",
   "execution_count": 12,
   "id": "f46b0ce1-b8aa-46c3-a982-04db3e4ed09b",
   "metadata": {},
   "outputs": [
    {
     "name": "stdout",
     "output_type": "stream",
     "text": [
      "4\n"
     ]
    }
   ],
   "source": [
    "class Vehicle:\n",
    "    def __init__(self, wheels):\n",
    "        self.wheels = wheels\n",
    "\n",
    "class Car(Vehicle):\n",
    "    pass\n",
    "\n",
    "car = Car(4)\n",
    "print(car.wheels)  # Output: 4"
   ]
  },
  {
   "cell_type": "code",
   "execution_count": 16,
   "id": "45f9c604-5052-4375-a96b-253ff1341fc2",
   "metadata": {},
   "outputs": [
    {
     "name": "stdout",
     "output_type": "stream",
     "text": [
      "Woof!\n",
      "Meow!\n"
     ]
    }
   ],
   "source": [
    "  class Dog:\n",
    "    def speak(self):\n",
    "        return \"Woof!\"\n",
    "\n",
    "class Cat:\n",
    "    def speak(self):\n",
    "        return \"Meow!\"\n",
    "\n",
    "# Polymorphism in action\n",
    "for animal in [Dog(), Cat()]:\n",
    "    print(animal.speak())"
   ]
  }
 ],
 "metadata": {
  "kernelspec": {
   "display_name": "anaconda-2024.02-py310",
   "language": "python",
   "name": "conda-env-anaconda-2024.02-py310-py"
  },
  "language_info": {
   "codemirror_mode": {
    "name": "ipython",
    "version": 3
   },
   "file_extension": ".py",
   "mimetype": "text/x-python",
   "name": "python",
   "nbconvert_exporter": "python",
   "pygments_lexer": "ipython3",
   "version": "3.10.14"
  }
 },
 "nbformat": 4,
 "nbformat_minor": 5
}
